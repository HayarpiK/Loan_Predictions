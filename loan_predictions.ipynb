{
 "cells": [
  {
   "cell_type": "markdown",
   "id": "ea5a9686",
   "metadata": {},
   "source": [
    "### Conclusion\n",
    "For the data classification we have used the machine learning models named below:    \n",
    "1. LogisticRegression    \n",
    "2. KFold Cros Validation based on LogisticRegression and DecisionTreeClassifier    \n",
    "3. DecisionTreeClassifier    \n",
    "4. SVC    \n",
    "5. RandomForestClassifier   \n",
    "6. GridSearchCV based on RandomForestClassifier    \n",
    "7. StackingClassifier    \n",
    "8. Sequential (Accuracy=0.67, Specificity=0.51), it is too much hard working model for this small data.\n",
    "\n",
    "All the aforementioned models demonstrated similar results. The main issue that all the models face is the low level of Specificity index. Which indicates that the models are not very good in predicting the negative results for loans, in data word the \"no\"-s or \"0\"-s. In that case that can be the result of very little data that has the answer \"no\", thus the models have hard times to learn some patterns to predict them.\n",
    "\n",
    "In the assessment of the best model for classification we took into account several factors:    \n",
    "1. The level of complication which in turn affect the speed of the model.    \n",
    "2. The resulting classification model assessment parameters - Sensitivity, Specificity,Accuracy, Precision    \n",
    "3. The usage of train, test separation of the data, given that the data was very little and we may get better or worse results just by luck\n",
    "\n",
    "Finally, we chose 2 models to be the best for our problem with the given data, and those are the RandomForestClassifier clasifier and the LogisticRegression with KFold Cros Validation.\n"
   ]
  },
  {
   "cell_type": "code",
   "execution_count": 177,
   "id": "ad40e679",
   "metadata": {},
   "outputs": [],
   "source": [
    "import pandas as pd \n",
    "import numpy as np\n",
    "from sklearn import preprocessing\n",
    "from sklearn.model_selection import train_test_split\n",
    "from sklearn.preprocessing import StandardScaler\n",
    "from sklearn.metrics import confusion_matrix, multilabel_confusion_matrix, plot_confusion_matrix, classification_report\n",
    "from sklearn.model_selection import GridSearchCV\n",
    "from sklearn.preprocessing import OneHotEncoder\n",
    "import keras\n",
    "from keras.models import Sequential\n",
    "from keras.layers import Dense, Dropout\n",
    "from sklearn.model_selection import KFold # import KFold\n",
    "import matplotlib.pyplot as plt\n",
    "from sklearn.linear_model import LogisticRegression\n",
    "from sklearn import datasets, linear_model\n",
    "from sklearn.model_selection import cross_val_predict, cross_val_score\n",
    "from sklearn.metrics import accuracy_score\n",
    "import graphviz\n",
    "from sklearn.tree import DecisionTreeClassifier, export_graphviz\n",
    "from sklearn import tree\n",
    "from sklearn import svm\n",
    "from sklearn.ensemble import RandomForestClassifier\n",
    "from sklearn.pipeline import make_pipeline\n",
    "from sklearn.ensemble import StackingClassifier"
   ]
  },
  {
   "cell_type": "code",
   "execution_count": 178,
   "id": "11c2b3e5",
   "metadata": {},
   "outputs": [],
   "source": [
    "data_train = data = pd.read_csv('./archive/train_u6lujuX_CVtuZ9i.csv')\n",
    "# data.LoanAmount = data.LoanAmount.fillna(0)\n",
    "# data.Self_Employed = data.Self_Employed.fillna('No')\n",
    "le = preprocessing.LabelEncoder()\n",
    "data.Loan_Status = le.fit_transform(data.Loan_Status)\n",
    "data.Gender = le.fit_transform(data.Gender)\n",
    "data.Married = le.fit_transform(data.Married)\n",
    "data.Self_Employed = le.fit_transform(data.Self_Employed)\n",
    "data = data.drop(['Loan_ID'], axis = 1)\n",
    "data = pd.get_dummies (data)\n",
    "# data = data.drop(['Education_Not Graduate', 'Dependents_3+', 'Gender'], axis = 1)\n",
    "data = data.fillna(method ='bfill')"
   ]
  },
  {
   "cell_type": "code",
   "execution_count": 179,
   "id": "fcb213af",
   "metadata": {},
   "outputs": [
    {
     "data": {
      "text/html": [
       "<div>\n",
       "<style scoped>\n",
       "    .dataframe tbody tr th:only-of-type {\n",
       "        vertical-align: middle;\n",
       "    }\n",
       "\n",
       "    .dataframe tbody tr th {\n",
       "        vertical-align: top;\n",
       "    }\n",
       "\n",
       "    .dataframe thead th {\n",
       "        text-align: right;\n",
       "    }\n",
       "</style>\n",
       "<table border=\"1\" class=\"dataframe\">\n",
       "  <thead>\n",
       "    <tr style=\"text-align: right;\">\n",
       "      <th></th>\n",
       "      <th>Gender</th>\n",
       "      <th>Married</th>\n",
       "      <th>Self_Employed</th>\n",
       "      <th>ApplicantIncome</th>\n",
       "      <th>CoapplicantIncome</th>\n",
       "      <th>LoanAmount</th>\n",
       "      <th>Loan_Amount_Term</th>\n",
       "      <th>Credit_History</th>\n",
       "      <th>Loan_Status</th>\n",
       "      <th>Dependents_0</th>\n",
       "      <th>Dependents_1</th>\n",
       "      <th>Dependents_2</th>\n",
       "      <th>Dependents_3+</th>\n",
       "      <th>Education_Graduate</th>\n",
       "      <th>Education_Not Graduate</th>\n",
       "      <th>Property_Area_Rural</th>\n",
       "      <th>Property_Area_Semiurban</th>\n",
       "      <th>Property_Area_Urban</th>\n",
       "    </tr>\n",
       "  </thead>\n",
       "  <tbody>\n",
       "    <tr>\n",
       "      <th>0</th>\n",
       "      <td>1</td>\n",
       "      <td>0</td>\n",
       "      <td>0</td>\n",
       "      <td>5849</td>\n",
       "      <td>0.0</td>\n",
       "      <td>128.0</td>\n",
       "      <td>360.0</td>\n",
       "      <td>1.0</td>\n",
       "      <td>1</td>\n",
       "      <td>1</td>\n",
       "      <td>0</td>\n",
       "      <td>0</td>\n",
       "      <td>0</td>\n",
       "      <td>1</td>\n",
       "      <td>0</td>\n",
       "      <td>0</td>\n",
       "      <td>0</td>\n",
       "      <td>1</td>\n",
       "    </tr>\n",
       "    <tr>\n",
       "      <th>1</th>\n",
       "      <td>1</td>\n",
       "      <td>1</td>\n",
       "      <td>0</td>\n",
       "      <td>4583</td>\n",
       "      <td>1508.0</td>\n",
       "      <td>128.0</td>\n",
       "      <td>360.0</td>\n",
       "      <td>1.0</td>\n",
       "      <td>0</td>\n",
       "      <td>0</td>\n",
       "      <td>1</td>\n",
       "      <td>0</td>\n",
       "      <td>0</td>\n",
       "      <td>1</td>\n",
       "      <td>0</td>\n",
       "      <td>1</td>\n",
       "      <td>0</td>\n",
       "      <td>0</td>\n",
       "    </tr>\n",
       "    <tr>\n",
       "      <th>2</th>\n",
       "      <td>1</td>\n",
       "      <td>1</td>\n",
       "      <td>1</td>\n",
       "      <td>3000</td>\n",
       "      <td>0.0</td>\n",
       "      <td>66.0</td>\n",
       "      <td>360.0</td>\n",
       "      <td>1.0</td>\n",
       "      <td>1</td>\n",
       "      <td>1</td>\n",
       "      <td>0</td>\n",
       "      <td>0</td>\n",
       "      <td>0</td>\n",
       "      <td>1</td>\n",
       "      <td>0</td>\n",
       "      <td>0</td>\n",
       "      <td>0</td>\n",
       "      <td>1</td>\n",
       "    </tr>\n",
       "    <tr>\n",
       "      <th>3</th>\n",
       "      <td>1</td>\n",
       "      <td>1</td>\n",
       "      <td>0</td>\n",
       "      <td>2583</td>\n",
       "      <td>2358.0</td>\n",
       "      <td>120.0</td>\n",
       "      <td>360.0</td>\n",
       "      <td>1.0</td>\n",
       "      <td>1</td>\n",
       "      <td>1</td>\n",
       "      <td>0</td>\n",
       "      <td>0</td>\n",
       "      <td>0</td>\n",
       "      <td>0</td>\n",
       "      <td>1</td>\n",
       "      <td>0</td>\n",
       "      <td>0</td>\n",
       "      <td>1</td>\n",
       "    </tr>\n",
       "    <tr>\n",
       "      <th>4</th>\n",
       "      <td>1</td>\n",
       "      <td>0</td>\n",
       "      <td>0</td>\n",
       "      <td>6000</td>\n",
       "      <td>0.0</td>\n",
       "      <td>141.0</td>\n",
       "      <td>360.0</td>\n",
       "      <td>1.0</td>\n",
       "      <td>1</td>\n",
       "      <td>1</td>\n",
       "      <td>0</td>\n",
       "      <td>0</td>\n",
       "      <td>0</td>\n",
       "      <td>1</td>\n",
       "      <td>0</td>\n",
       "      <td>0</td>\n",
       "      <td>0</td>\n",
       "      <td>1</td>\n",
       "    </tr>\n",
       "    <tr>\n",
       "      <th>...</th>\n",
       "      <td>...</td>\n",
       "      <td>...</td>\n",
       "      <td>...</td>\n",
       "      <td>...</td>\n",
       "      <td>...</td>\n",
       "      <td>...</td>\n",
       "      <td>...</td>\n",
       "      <td>...</td>\n",
       "      <td>...</td>\n",
       "      <td>...</td>\n",
       "      <td>...</td>\n",
       "      <td>...</td>\n",
       "      <td>...</td>\n",
       "      <td>...</td>\n",
       "      <td>...</td>\n",
       "      <td>...</td>\n",
       "      <td>...</td>\n",
       "      <td>...</td>\n",
       "    </tr>\n",
       "    <tr>\n",
       "      <th>609</th>\n",
       "      <td>0</td>\n",
       "      <td>0</td>\n",
       "      <td>0</td>\n",
       "      <td>2900</td>\n",
       "      <td>0.0</td>\n",
       "      <td>71.0</td>\n",
       "      <td>360.0</td>\n",
       "      <td>1.0</td>\n",
       "      <td>1</td>\n",
       "      <td>1</td>\n",
       "      <td>0</td>\n",
       "      <td>0</td>\n",
       "      <td>0</td>\n",
       "      <td>1</td>\n",
       "      <td>0</td>\n",
       "      <td>1</td>\n",
       "      <td>0</td>\n",
       "      <td>0</td>\n",
       "    </tr>\n",
       "    <tr>\n",
       "      <th>610</th>\n",
       "      <td>1</td>\n",
       "      <td>1</td>\n",
       "      <td>0</td>\n",
       "      <td>4106</td>\n",
       "      <td>0.0</td>\n",
       "      <td>40.0</td>\n",
       "      <td>180.0</td>\n",
       "      <td>1.0</td>\n",
       "      <td>1</td>\n",
       "      <td>0</td>\n",
       "      <td>0</td>\n",
       "      <td>0</td>\n",
       "      <td>1</td>\n",
       "      <td>1</td>\n",
       "      <td>0</td>\n",
       "      <td>1</td>\n",
       "      <td>0</td>\n",
       "      <td>0</td>\n",
       "    </tr>\n",
       "    <tr>\n",
       "      <th>611</th>\n",
       "      <td>1</td>\n",
       "      <td>1</td>\n",
       "      <td>0</td>\n",
       "      <td>8072</td>\n",
       "      <td>240.0</td>\n",
       "      <td>253.0</td>\n",
       "      <td>360.0</td>\n",
       "      <td>1.0</td>\n",
       "      <td>1</td>\n",
       "      <td>0</td>\n",
       "      <td>1</td>\n",
       "      <td>0</td>\n",
       "      <td>0</td>\n",
       "      <td>1</td>\n",
       "      <td>0</td>\n",
       "      <td>0</td>\n",
       "      <td>0</td>\n",
       "      <td>1</td>\n",
       "    </tr>\n",
       "    <tr>\n",
       "      <th>612</th>\n",
       "      <td>1</td>\n",
       "      <td>1</td>\n",
       "      <td>0</td>\n",
       "      <td>7583</td>\n",
       "      <td>0.0</td>\n",
       "      <td>187.0</td>\n",
       "      <td>360.0</td>\n",
       "      <td>1.0</td>\n",
       "      <td>1</td>\n",
       "      <td>0</td>\n",
       "      <td>0</td>\n",
       "      <td>1</td>\n",
       "      <td>0</td>\n",
       "      <td>1</td>\n",
       "      <td>0</td>\n",
       "      <td>0</td>\n",
       "      <td>0</td>\n",
       "      <td>1</td>\n",
       "    </tr>\n",
       "    <tr>\n",
       "      <th>613</th>\n",
       "      <td>0</td>\n",
       "      <td>0</td>\n",
       "      <td>1</td>\n",
       "      <td>4583</td>\n",
       "      <td>0.0</td>\n",
       "      <td>133.0</td>\n",
       "      <td>360.0</td>\n",
       "      <td>0.0</td>\n",
       "      <td>0</td>\n",
       "      <td>1</td>\n",
       "      <td>0</td>\n",
       "      <td>0</td>\n",
       "      <td>0</td>\n",
       "      <td>1</td>\n",
       "      <td>0</td>\n",
       "      <td>0</td>\n",
       "      <td>1</td>\n",
       "      <td>0</td>\n",
       "    </tr>\n",
       "  </tbody>\n",
       "</table>\n",
       "<p>614 rows × 18 columns</p>\n",
       "</div>"
      ],
      "text/plain": [
       "     Gender  Married  Self_Employed  ApplicantIncome  CoapplicantIncome  \\\n",
       "0         1        0              0             5849                0.0   \n",
       "1         1        1              0             4583             1508.0   \n",
       "2         1        1              1             3000                0.0   \n",
       "3         1        1              0             2583             2358.0   \n",
       "4         1        0              0             6000                0.0   \n",
       "..      ...      ...            ...              ...                ...   \n",
       "609       0        0              0             2900                0.0   \n",
       "610       1        1              0             4106                0.0   \n",
       "611       1        1              0             8072              240.0   \n",
       "612       1        1              0             7583                0.0   \n",
       "613       0        0              1             4583                0.0   \n",
       "\n",
       "     LoanAmount  Loan_Amount_Term  Credit_History  Loan_Status  Dependents_0  \\\n",
       "0         128.0             360.0             1.0            1             1   \n",
       "1         128.0             360.0             1.0            0             0   \n",
       "2          66.0             360.0             1.0            1             1   \n",
       "3         120.0             360.0             1.0            1             1   \n",
       "4         141.0             360.0             1.0            1             1   \n",
       "..          ...               ...             ...          ...           ...   \n",
       "609        71.0             360.0             1.0            1             1   \n",
       "610        40.0             180.0             1.0            1             0   \n",
       "611       253.0             360.0             1.0            1             0   \n",
       "612       187.0             360.0             1.0            1             0   \n",
       "613       133.0             360.0             0.0            0             1   \n",
       "\n",
       "     Dependents_1  Dependents_2  Dependents_3+  Education_Graduate  \\\n",
       "0               0             0              0                   1   \n",
       "1               1             0              0                   1   \n",
       "2               0             0              0                   1   \n",
       "3               0             0              0                   0   \n",
       "4               0             0              0                   1   \n",
       "..            ...           ...            ...                 ...   \n",
       "609             0             0              0                   1   \n",
       "610             0             0              1                   1   \n",
       "611             1             0              0                   1   \n",
       "612             0             1              0                   1   \n",
       "613             0             0              0                   1   \n",
       "\n",
       "     Education_Not Graduate  Property_Area_Rural  Property_Area_Semiurban  \\\n",
       "0                         0                    0                        0   \n",
       "1                         0                    1                        0   \n",
       "2                         0                    0                        0   \n",
       "3                         1                    0                        0   \n",
       "4                         0                    0                        0   \n",
       "..                      ...                  ...                      ...   \n",
       "609                       0                    1                        0   \n",
       "610                       0                    1                        0   \n",
       "611                       0                    0                        0   \n",
       "612                       0                    0                        0   \n",
       "613                       0                    0                        1   \n",
       "\n",
       "     Property_Area_Urban  \n",
       "0                      1  \n",
       "1                      0  \n",
       "2                      1  \n",
       "3                      1  \n",
       "4                      1  \n",
       "..                   ...  \n",
       "609                    0  \n",
       "610                    0  \n",
       "611                    1  \n",
       "612                    1  \n",
       "613                    0  \n",
       "\n",
       "[614 rows x 18 columns]"
      ]
     },
     "execution_count": 179,
     "metadata": {},
     "output_type": "execute_result"
    }
   ],
   "source": [
    "data"
   ]
  },
  {
   "cell_type": "code",
   "execution_count": 180,
   "id": "df8e7913",
   "metadata": {},
   "outputs": [],
   "source": [
    "y = data['Loan_Status']\n",
    "data = data.drop(['Loan_Status'], axis = 1)\n",
    "x_train, x_test, y_train, y_test  = train_test_split(data, y, test_size=0.2, random_state=42)\n",
    "norm = StandardScaler().fit(x_train)\n",
    "\n",
    "X_train = norm.transform(x_train)\n",
    "X_test = norm.transform(x_test)\n"
   ]
  },
  {
   "cell_type": "code",
   "execution_count": 181,
   "id": "ff4f325b",
   "metadata": {},
   "outputs": [],
   "source": [
    "def perf_measure(y_actual, y_hat):\n",
    "    TP = 0\n",
    "    FP = 0\n",
    "    TN = 0\n",
    "    FN = 0\n",
    "    for i in range(len(y_hat)): \n",
    "        if y_actual[i]==1 and y_hat[i]==1:\n",
    "           TP += 1\n",
    "        if y_hat[i]==1 and y_actual[i]!=y_hat[i]:\n",
    "           FP += 1\n",
    "        if y_actual[i]==0 and y_hat[i]==0:\n",
    "           TN += 1\n",
    "        if y_hat[i]==0 and y_actual[i]!=y_hat[i]:\n",
    "           FN += 1\n",
    "    return TP, FP, TN, FN\n",
    "\n",
    "def print_metrics(tp, fp, tn, fn):\n",
    "    Sensitivity = tp/(tp+fn)\n",
    "    print('Sensitivity: %.2f'% Sensitivity)\n",
    "    Specificity = tn/(tn+fp)\n",
    "    print('Specificity: %.2f'% Specificity)\n",
    "    Accuracy = (tp+tn)/(tp+tn+fp+fn)\n",
    "    print('Accuracy: %.2f'% Accuracy)\n",
    "    Precision = tp/(tp+fp)\n",
    "    print('Precision: %.2f'% Precision)\n",
    "    pass"
   ]
  },
  {
   "cell_type": "markdown",
   "id": "dbbc230e",
   "metadata": {},
   "source": [
    "### LogisticRegression"
   ]
  },
  {
   "cell_type": "code",
   "execution_count": 182,
   "id": "d2529f8a",
   "metadata": {},
   "outputs": [
    {
     "name": "stdout",
     "output_type": "stream",
     "text": [
      "78 25 18 2\n",
      "Sensitivity: 0.97\n",
      "Specificity: 0.42\n",
      "Accuracy: 0.78\n",
      "Precision: 0.76\n"
     ]
    },
    {
     "data": {
      "text/plain": [
       "<sklearn.metrics._plot.confusion_matrix.ConfusionMatrixDisplay at 0x19835069fa0>"
      ]
     },
     "execution_count": 182,
     "metadata": {},
     "output_type": "execute_result"
    },
    {
     "data": {
      "image/png": "[encoded data removed]",
      "text/plain": [
       "<Figure size 432x288 with 2 Axes>"
      ]
     },
     "metadata": {
      "needs_background": "light"
     },
     "output_type": "display_data"
    }
   ],
   "source": [
    "log = LogisticRegression(C=1, random_state=0).fit(x_train, y_train)\n",
    "y_log = log.predict(x_test)\n",
    "tp, fp, tn, fn = perf_measure(list(y_test), y_log)\n",
    "print(tp, fp, tn, fn)\n",
    "print_metrics(tp, fp, tn, fn)\n",
    "plot_confusion_matrix(log, x_test, y_test)"
   ]
  },
  {
   "cell_type": "markdown",
   "id": "af9a5286",
   "metadata": {},
   "source": [
    "### KFold for LogisticRegression"
   ]
  },
  {
   "cell_type": "code",
   "execution_count": 183,
   "id": "314a566f",
   "metadata": {},
   "outputs": [
    {
     "name": "stdout",
     "output_type": "stream",
     "text": [
      "329 84 65 13\n",
      "Sensitivity: 0.96\n",
      "Specificity: 0.44\n",
      "Accuracy: 0.80\n",
      "Precision: 0.80\n"
     ]
    }
   ],
   "source": [
    "cv = KFold(n_splits=5)\n",
    "log = LogisticRegression(C=0.1, random_state=0)\n",
    "y_pred = cross_val_predict(log, X_train, y_train, cv=cv)\n",
    "tp, fp, tn, fn = perf_measure(list(y_train), y_pred)\n",
    "print(tp, fp, tn, fn)\n",
    "a = print_metrics(tp, fp, tn, fn)\n",
    "scores = cross_val_score(log, x_train, y_train, cv=cv)"
   ]
  },
  {
   "cell_type": "code",
   "execution_count": 184,
   "id": "a87ca75f",
   "metadata": {},
   "outputs": [],
   "source": [
    "def my_cross_val_predict(model, x, y, cv):\n",
    "    lm = model\n",
    "    predictions = np.array([])\n",
    "    x = np.array(x)\n",
    "    y = np.array(y)\n",
    "    kf = KFold(n_splits=cv)\n",
    "    coef = []\n",
    "    for train_index, test_index in kf.split(x):\n",
    "        x_train, x_test = x[train_index], x[test_index]\n",
    "        y_train, y_test = y[train_index], y[test_index]\n",
    "        model = lm.fit(x_train, y_train)\n",
    "        predictions = np.append(predictions, lm.predict(x_test))\n",
    "        coef.append(model.coef_)    \n",
    "    \n",
    "    new_coef = sum(coef)\n",
    "    finel_coef =[i/cv for i in new_coef] \n",
    "    return predictions, finel_coef\n",
    "\n",
    "def finel_model(coef, x):\n",
    "    return np.array([sum(coef*i) for i in x])"
   ]
  },
  {
   "cell_type": "code",
   "execution_count": 185,
   "id": "dd5073c7",
   "metadata": {},
   "outputs": [
    {
     "name": "stdout",
     "output_type": "stream",
     "text": [
      "[array([-0.08521078,  0.37255502,  0.05426903,  0.01811544, -0.16145293,\n",
      "       -0.22227419,  0.00966604,  1.16107776,  0.19640516, -0.03129605,\n",
      "        0.29920906,  0.21042345,  0.06361746, -0.06361746, -0.1916083 ,\n",
      "        0.24572659, -0.07074922])]\n"
     ]
    }
   ],
   "source": [
    "log = LogisticRegression(C=1, random_state=0)\n",
    "log_predict, coef = my_cross_val_predict(log, X_train, y_train, 10)\n",
    "print(coef)"
   ]
  },
  {
   "cell_type": "markdown",
   "id": "7049a605",
   "metadata": {},
   "source": [
    "### DecisionTreeClassifier\n"
   ]
  },
  {
   "cell_type": "code",
   "execution_count": 186,
   "id": "de7dac6e",
   "metadata": {},
   "outputs": [
    {
     "name": "stdout",
     "output_type": "stream",
     "text": [
      "72 20 23 8\n",
      "Sensitivity: 0.90\n",
      "Specificity: 0.53\n",
      "Accuracy: 0.77\n",
      "Precision: 0.78\n"
     ]
    },
    {
     "data": {
      "text/plain": [
       "<sklearn.metrics._plot.confusion_matrix.ConfusionMatrixDisplay at 0x19838249e50>"
      ]
     },
     "execution_count": 186,
     "metadata": {},
     "output_type": "execute_result"
    },
    {
     "data": {
      "image/png": "[encoded data removed]",
      "text/plain": [
       "<Figure size 432x288 with 2 Axes>"
      ]
     },
     "metadata": {
      "needs_background": "light"
     },
     "output_type": "display_data"
    }
   ],
   "source": [
    "btree = DecisionTreeClassifier(min_samples_leaf =10, max_depth= 20)\n",
    "btree.fit(X_train, y_train)\n",
    "y_btree = btree.predict(X_test)\n",
    "tp, fp, tn, fn = perf_measure(list(y_test), y_btree)\n",
    "print(tp, fp, tn, fn)\n",
    "a = print_metrics(tp, fp, tn, fn)\n",
    "plot_confusion_matrix(btree, X_test, y_test)\n",
    "# DecisionTreeClassifier?"
   ]
  },
  {
   "cell_type": "markdown",
   "id": "28ee1822",
   "metadata": {},
   "source": [
    "### KFold for DecisionTreeClassifier"
   ]
  },
  {
   "cell_type": "code",
   "execution_count": 187,
   "id": "5b4cdcdf",
   "metadata": {},
   "outputs": [
    {
     "name": "stdout",
     "output_type": "stream",
     "text": [
      "380 102 90 42\n",
      "Sensitivity: 0.90\n",
      "Specificity: 0.47\n",
      "Accuracy: 0.77\n",
      "Precision: 0.79\n"
     ]
    }
   ],
   "source": [
    "btree = DecisionTreeClassifier(min_samples_leaf =15, max_depth= 20)\n",
    "cv = KFold(n_splits=5)\n",
    "y_pred = cross_val_predict(btree, data, y, cv=cv)\n",
    "tp, fp, tn, fn = perf_measure(list(y), y_pred)\n",
    "print(tp, fp, tn, fn)\n",
    "a = print_metrics(tp, fp, tn, fn)\n",
    "# scores = cross_val_score(log, x_train, y_train, cv=cv)"
   ]
  },
  {
   "cell_type": "markdown",
   "id": "92001062",
   "metadata": {},
   "source": [
    "### SVM"
   ]
  },
  {
   "cell_type": "code",
   "execution_count": 189,
   "id": "62473f87",
   "metadata": {},
   "outputs": [
    {
     "name": "stdout",
     "output_type": "stream",
     "text": [
      "80 24 19 0\n",
      "Sensitivity: 1.00\n",
      "Specificity: 0.44\n",
      "Accuracy: 0.80\n",
      "Precision: 0.77\n"
     ]
    },
    {
     "data": {
      "text/plain": [
       "<sklearn.metrics._plot.confusion_matrix.ConfusionMatrixDisplay at 0x198381d9460>"
      ]
     },
     "execution_count": 189,
     "metadata": {},
     "output_type": "execute_result"
    },
    {
     "data": {
      "image/png": "[encoded data removed]",
      "text/plain": [
       "<Figure size 432x288 with 2 Axes>"
      ]
     },
     "metadata": {
      "needs_background": "light"
     },
     "output_type": "display_data"
    }
   ],
   "source": [
    "lsvm = svm.SVC(kernel='rbf', C =1, random_state=0)\n",
    "lsvm.fit(X_train, y_train)\n",
    "y_lsvm = lsvm.predict(X_test)\n",
    "tp, fp, tn, fn = perf_measure(list(y_test), y_lsvm)\n",
    "print(tp, fp, tn, fn)\n",
    "a = print_metrics(tp, fp, tn, fn)\n",
    "plot_confusion_matrix(lsvm, X_test, y_test)\n"
   ]
  },
  {
   "cell_type": "code",
   "execution_count": 190,
   "id": "2e0018c0",
   "metadata": {},
   "outputs": [
    {
     "name": "stdout",
     "output_type": "stream",
     "text": [
      "79 24 19 1\n",
      "Sensitivity: 0.99\n",
      "Specificity: 0.44\n",
      "Accuracy: 0.80\n",
      "Precision: 0.77\n"
     ]
    },
    {
     "data": {
      "text/plain": [
       "<sklearn.metrics._plot.confusion_matrix.ConfusionMatrixDisplay at 0x1983829ef40>"
      ]
     },
     "execution_count": 190,
     "metadata": {},
     "output_type": "execute_result"
    },
    {
     "data": {
      "image/png": "[encoded data removed]",
      "text/plain": [
       "<Figure size 432x288 with 2 Axes>"
      ]
     },
     "metadata": {
      "needs_background": "light"
     },
     "output_type": "display_data"
    }
   ],
   "source": [
    "rf=RandomForestClassifier(n_estimators=10, max_depth= 5, min_samples_leaf = 10, random_state=0)\n",
    "rf.fit(X_train,y_train)\n",
    "y_rf=rf.predict(X_test)\n",
    "tp, fp, tn, fn = perf_measure(list(y_test), y_rf)\n",
    "print(tp, fp, tn, fn)\n",
    "a = print_metrics(tp, fp, tn, fn)\n",
    "plot_confusion_matrix(rf, X_test, y_test)\n"
   ]
  },
  {
   "cell_type": "markdown",
   "id": "d5fc0302",
   "metadata": {},
   "source": [
    "### GridSearchCV for RandomForestClassifier"
   ]
  },
  {
   "cell_type": "code",
   "execution_count": 166,
   "id": "e3fb6509",
   "metadata": {},
   "outputs": [
    {
     "name": "stdout",
     "output_type": "stream",
     "text": [
      "79 24 19 1\n",
      "Sensitivity: 0.99\n",
      "Specificity: 0.44\n",
      "Accuracy: 0.80\n",
      "Precision: 0.77\n"
     ]
    },
    {
     "data": {
      "text/plain": [
       "<sklearn.metrics._plot.confusion_matrix.ConfusionMatrixDisplay at 0x1983553e100>"
      ]
     },
     "execution_count": 166,
     "metadata": {},
     "output_type": "execute_result"
    },
    {
     "data": {
      "image/png": "[encoded data removed]",
      "text/plain": [
       "<Figure size 432x288 with 2 Axes>"
      ]
     },
     "metadata": {
      "needs_background": "light"
     },
     "output_type": "display_data"
    }
   ],
   "source": [
    "rtree = RandomForestClassifier(n_estimators=50, min_samples_leaf =15, max_depth= 10, random_state=0)\n",
    "grid_search = GridSearchCV(rtree, param_grid, cv=10)\n",
    "grid_search.fit(X_train,y_train)\n",
    "y_rf=grid_search.predict(X_test)\n",
    "tp, fp, tn, fn = perf_measure(list(y_test), y_rf)\n",
    "print(tp, fp, tn, fn)\n",
    "a = print_metrics(tp, fp, tn, fn)\n",
    "plot_confusion_matrix(grid_search, X_test, y_test)\n"
   ]
  },
  {
   "cell_type": "markdown",
   "id": "b542d771",
   "metadata": {},
   "source": [
    "### StackingClassifier\n"
   ]
  },
  {
   "cell_type": "code",
   "execution_count": 191,
   "id": "3f942f69",
   "metadata": {},
   "outputs": [
    {
     "name": "stdout",
     "output_type": "stream",
     "text": [
      "79 24 19 1\n",
      "Sensitivity: 0.99\n",
      "Specificity: 0.44\n",
      "Accuracy: 0.80\n",
      "Precision: 0.77\n"
     ]
    },
    {
     "data": {
      "text/plain": [
       "<sklearn.metrics._plot.confusion_matrix.ConfusionMatrixDisplay at 0x1983839dc70>"
      ]
     },
     "execution_count": 191,
     "metadata": {},
     "output_type": "execute_result"
    },
    {
     "data": {
      "image/png": "[encoded data removed]",
      "text/plain": [
       "<Figure size 432x288 with 2 Axes>"
      ]
     },
     "metadata": {
      "needs_background": "light"
     },
     "output_type": "display_data"
    }
   ],
   "source": [
    "estimators = [\n",
    "    ('btree', btree), \n",
    "    ('rf', rf),\n",
    "    ('log', log),\n",
    "    ('lr', make_pipeline(SVC(random_state=42)))\n",
    "]\n",
    "clf = StackingClassifier(estimators=estimators, final_estimator=make_pipeline(SVC(random_state=42)))\n",
    "clf.fit(X_train,y_train)\n",
    "y_rf=rf.predict(X_test)\n",
    "tp, fp, tn, fn = perf_measure(list(y_test), y_rf)\n",
    "print(tp, fp, tn, fn)\n",
    "a = print_metrics(tp, fp, tn, fn)\n",
    "plot_confusion_matrix(clf, X_test, y_test)"
   ]
  },
  {
   "cell_type": "code",
   "execution_count": 192,
   "id": "3454571c",
   "metadata": {},
   "outputs": [],
   "source": [
    "data = pd.read_csv('./archive/train_u6lujuX_CVtuZ9i.csv')\n",
    "data = data.drop(['Loan_ID'], axis = 1)\n",
    "y= data.iloc[:,11:12].values\n",
    "ohe = OneHotEncoder()\n",
    "y = ohe.fit_transform(y).toarray()\n",
    "data = data.drop(['Loan_Status'], axis = 1)\n",
    "# data.LoanAmount = data.LoanAmount.fillna(0)\n",
    "# data.Self_Employed = data.Self_Employed.fillna('No')\n",
    "le = preprocessing.LabelEncoder()\n",
    "data.Gender = le.fit_transform(data.Gender)\n",
    "data.Married = le.fit_transform(data.Married)\n",
    "data.Self_Employed = le.fit_transform(data.Self_Employed)\n",
    "data = pd.get_dummies (data)\n",
    "data = data.fillna(method ='bfill')\n",
    "sc = StandardScaler()\n",
    "x = sc.fit_transform(data)\n"
   ]
  },
  {
   "cell_type": "code",
   "execution_count": 202,
   "id": "9ca0725e",
   "metadata": {},
   "outputs": [],
   "source": [
    "from sklearn.model_selection import train_test_split\n",
    "X_train,X_test,y_train,y_test = train_test_split(x,y,test_size = 0.2, random_state=42)"
   ]
  },
  {
   "cell_type": "markdown",
   "id": "e1daa228",
   "metadata": {},
   "source": [
    "### Sequential"
   ]
  },
  {
   "cell_type": "code",
   "execution_count": 204,
   "id": "9b07be02",
   "metadata": {},
   "outputs": [],
   "source": [
    "model = Sequential()\n",
    "model.add(Dense(8, input_dim=17, activation = \"relu\"))\n",
    "model.add(Dense(4, activation=\"relu\"))\n",
    "model.add(Dense(2, activation=\"softmax\"))\n",
    "model.compile(loss='categorical_crossentropy', optimizer='adam', metrics=['accuracy'])"
   ]
  },
  {
   "cell_type": "code",
   "execution_count": 205,
   "id": "15075207",
   "metadata": {},
   "outputs": [
    {
     "name": "stdout",
     "output_type": "stream",
     "text": [
      "Epoch 1/100\n",
      "8/8 [==============================] - 1s 42ms/step - loss: 0.9370 - accuracy: 0.3880 - val_loss: 0.9060 - val_accuracy: 0.3902\n",
      "Epoch 2/100\n",
      "8/8 [==============================] - 0s 5ms/step - loss: 0.9017 - accuracy: 0.4148 - val_loss: 0.8590 - val_accuracy: 0.4309\n",
      "Epoch 3/100\n",
      "8/8 [==============================] - 0s 6ms/step - loss: 0.8882 - accuracy: 0.4184 - val_loss: 0.8183 - val_accuracy: 0.4390\n",
      "Epoch 4/100\n",
      "8/8 [==============================] - 0s 6ms/step - loss: 0.8342 - accuracy: 0.4563 - val_loss: 0.7838 - val_accuracy: 0.4797\n",
      "Epoch 5/100\n",
      "8/8 [==============================] - 0s 4ms/step - loss: 0.7912 - accuracy: 0.5372 - val_loss: 0.7565 - val_accuracy: 0.4959\n",
      "Epoch 6/100\n",
      "8/8 [==============================] - 0s 5ms/step - loss: 0.7428 - accuracy: 0.5900 - val_loss: 0.7344 - val_accuracy: 0.5203\n",
      "Epoch 7/100\n",
      "8/8 [==============================] - 0s 7ms/step - loss: 0.7226 - accuracy: 0.5646 - val_loss: 0.7160 - val_accuracy: 0.5528\n",
      "Epoch 8/100\n",
      "8/8 [==============================] - 0s 5ms/step - loss: 0.7173 - accuracy: 0.5839 - val_loss: 0.7005 - val_accuracy: 0.5528\n",
      "Epoch 9/100\n",
      "8/8 [==============================] - 0s 5ms/step - loss: 0.6902 - accuracy: 0.6105 - val_loss: 0.6882 - val_accuracy: 0.5854\n",
      "Epoch 10/100\n",
      "8/8 [==============================] - 0s 5ms/step - loss: 0.6781 - accuracy: 0.6401 - val_loss: 0.6774 - val_accuracy: 0.5854\n",
      "Epoch 11/100\n",
      "8/8 [==============================] - 0s 5ms/step - loss: 0.6687 - accuracy: 0.6601 - val_loss: 0.6689 - val_accuracy: 0.5935\n",
      "Epoch 12/100\n",
      "8/8 [==============================] - 0s 5ms/step - loss: 0.6549 - accuracy: 0.6730 - val_loss: 0.6621 - val_accuracy: 0.6179\n",
      "Epoch 13/100\n",
      "8/8 [==============================] - 0s 5ms/step - loss: 0.6556 - accuracy: 0.6385 - val_loss: 0.6566 - val_accuracy: 0.6341\n",
      "Epoch 14/100\n",
      "8/8 [==============================] - 0s 5ms/step - loss: 0.6285 - accuracy: 0.6932 - val_loss: 0.6518 - val_accuracy: 0.6341\n",
      "Epoch 15/100\n",
      "8/8 [==============================] - 0s 6ms/step - loss: 0.6279 - accuracy: 0.6915 - val_loss: 0.6481 - val_accuracy: 0.6423\n",
      "Epoch 16/100\n",
      "8/8 [==============================] - 0s 5ms/step - loss: 0.6308 - accuracy: 0.6838 - val_loss: 0.6454 - val_accuracy: 0.6504\n",
      "Epoch 17/100\n",
      "8/8 [==============================] - 0s 5ms/step - loss: 0.6300 - accuracy: 0.6751 - val_loss: 0.6427 - val_accuracy: 0.6585\n",
      "Epoch 18/100\n",
      "8/8 [==============================] - 0s 6ms/step - loss: 0.6089 - accuracy: 0.7091 - val_loss: 0.6401 - val_accuracy: 0.6585\n",
      "Epoch 19/100\n",
      "8/8 [==============================] - 0s 6ms/step - loss: 0.6035 - accuracy: 0.7152 - val_loss: 0.6378 - val_accuracy: 0.6667\n",
      "Epoch 20/100\n",
      "8/8 [==============================] - 0s 6ms/step - loss: 0.6174 - accuracy: 0.6938 - val_loss: 0.6352 - val_accuracy: 0.6667\n",
      "Epoch 21/100\n",
      "8/8 [==============================] - 0s 5ms/step - loss: 0.6206 - accuracy: 0.6836 - val_loss: 0.6333 - val_accuracy: 0.6748\n",
      "Epoch 22/100\n",
      "8/8 [==============================] - 0s 7ms/step - loss: 0.5867 - accuracy: 0.7250 - val_loss: 0.6315 - val_accuracy: 0.6748\n",
      "Epoch 23/100\n",
      "8/8 [==============================] - 0s 6ms/step - loss: 0.5939 - accuracy: 0.7190 - val_loss: 0.6297 - val_accuracy: 0.6829\n",
      "Epoch 24/100\n",
      "8/8 [==============================] - 0s 6ms/step - loss: 0.6083 - accuracy: 0.6906 - val_loss: 0.6281 - val_accuracy: 0.6829\n",
      "Epoch 25/100\n",
      "8/8 [==============================] - 0s 7ms/step - loss: 0.5956 - accuracy: 0.7089 - val_loss: 0.6259 - val_accuracy: 0.6829\n",
      "Epoch 26/100\n",
      "8/8 [==============================] - ETA: 0s - loss: 0.5666 - accuracy: 0.75 - 0s 6ms/step - loss: 0.5834 - accuracy: 0.7253 - val_loss: 0.6242 - val_accuracy: 0.6829\n",
      "Epoch 27/100\n",
      "8/8 [==============================] - 0s 7ms/step - loss: 0.5880 - accuracy: 0.7182 - val_loss: 0.6227 - val_accuracy: 0.6829\n",
      "Epoch 28/100\n",
      "8/8 [==============================] - 0s 7ms/step - loss: 0.5730 - accuracy: 0.7202 - val_loss: 0.6205 - val_accuracy: 0.6829\n",
      "Epoch 29/100\n",
      "8/8 [==============================] - 0s 6ms/step - loss: 0.5717 - accuracy: 0.7314 - val_loss: 0.6183 - val_accuracy: 0.6911\n",
      "Epoch 30/100\n",
      "8/8 [==============================] - 0s 6ms/step - loss: 0.5695 - accuracy: 0.7310 - val_loss: 0.6163 - val_accuracy: 0.6911\n",
      "Epoch 31/100\n",
      "8/8 [==============================] - 0s 5ms/step - loss: 0.5832 - accuracy: 0.7122 - val_loss: 0.6143 - val_accuracy: 0.6911\n",
      "Epoch 32/100\n",
      "8/8 [==============================] - 0s 6ms/step - loss: 0.5742 - accuracy: 0.7213 - val_loss: 0.6122 - val_accuracy: 0.6992\n",
      "Epoch 33/100\n",
      "8/8 [==============================] - 0s 7ms/step - loss: 0.5679 - accuracy: 0.7256 - val_loss: 0.6094 - val_accuracy: 0.6992\n",
      "Epoch 34/100\n",
      "8/8 [==============================] - 0s 6ms/step - loss: 0.5602 - accuracy: 0.7312 - val_loss: 0.6068 - val_accuracy: 0.7154\n",
      "Epoch 35/100\n",
      "8/8 [==============================] - 0s 5ms/step - loss: 0.5355 - accuracy: 0.7674 - val_loss: 0.6038 - val_accuracy: 0.7236\n",
      "Epoch 36/100\n",
      "8/8 [==============================] - 0s 6ms/step - loss: 0.5501 - accuracy: 0.7579 - val_loss: 0.6018 - val_accuracy: 0.7236\n",
      "Epoch 37/100\n",
      "8/8 [==============================] - 0s 5ms/step - loss: 0.5371 - accuracy: 0.7590 - val_loss: 0.5992 - val_accuracy: 0.7236\n",
      "Epoch 38/100\n",
      "8/8 [==============================] - 0s 7ms/step - loss: 0.5408 - accuracy: 0.7613 - val_loss: 0.5970 - val_accuracy: 0.7236\n",
      "Epoch 39/100\n",
      "8/8 [==============================] - 0s 4ms/step - loss: 0.5523 - accuracy: 0.7520 - val_loss: 0.5947 - val_accuracy: 0.7236\n",
      "Epoch 40/100\n",
      "8/8 [==============================] - 0s 5ms/step - loss: 0.5452 - accuracy: 0.7507 - val_loss: 0.5921 - val_accuracy: 0.7236\n",
      "Epoch 41/100\n",
      "8/8 [==============================] - 0s 5ms/step - loss: 0.5453 - accuracy: 0.7549 - val_loss: 0.5897 - val_accuracy: 0.7236\n",
      "Epoch 42/100\n",
      "8/8 [==============================] - 0s 5ms/step - loss: 0.5234 - accuracy: 0.7836 - val_loss: 0.5875 - val_accuracy: 0.7317\n",
      "Epoch 43/100\n",
      "8/8 [==============================] - 0s 5ms/step - loss: 0.5238 - accuracy: 0.7872 - val_loss: 0.5848 - val_accuracy: 0.7317\n",
      "Epoch 44/100\n",
      "8/8 [==============================] - 0s 5ms/step - loss: 0.5359 - accuracy: 0.7609 - val_loss: 0.5820 - val_accuracy: 0.7480\n",
      "Epoch 45/100\n",
      "8/8 [==============================] - 0s 5ms/step - loss: 0.5670 - accuracy: 0.7329 - val_loss: 0.5793 - val_accuracy: 0.7480\n",
      "Epoch 46/100\n",
      "8/8 [==============================] - 0s 6ms/step - loss: 0.5143 - accuracy: 0.7723 - val_loss: 0.5777 - val_accuracy: 0.7561\n",
      "Epoch 47/100\n",
      "8/8 [==============================] - 0s 6ms/step - loss: 0.5337 - accuracy: 0.7590 - val_loss: 0.5751 - val_accuracy: 0.7561\n",
      "Epoch 48/100\n",
      "8/8 [==============================] - 0s 5ms/step - loss: 0.5290 - accuracy: 0.7616 - val_loss: 0.5732 - val_accuracy: 0.7642\n",
      "Epoch 49/100\n",
      "8/8 [==============================] - 0s 5ms/step - loss: 0.4937 - accuracy: 0.8033 - val_loss: 0.5717 - val_accuracy: 0.7642\n",
      "Epoch 50/100\n",
      "8/8 [==============================] - 0s 5ms/step - loss: 0.5030 - accuracy: 0.7766 - val_loss: 0.5699 - val_accuracy: 0.7642\n",
      "Epoch 51/100\n",
      "8/8 [==============================] - 0s 5ms/step - loss: 0.5144 - accuracy: 0.7812 - val_loss: 0.5676 - val_accuracy: 0.7642\n",
      "Epoch 52/100\n",
      "8/8 [==============================] - 0s 5ms/step - loss: 0.5103 - accuracy: 0.7809 - val_loss: 0.5658 - val_accuracy: 0.7642\n",
      "Epoch 53/100\n",
      "8/8 [==============================] - 0s 5ms/step - loss: 0.5210 - accuracy: 0.7613 - val_loss: 0.5637 - val_accuracy: 0.7642\n",
      "Epoch 54/100\n",
      "8/8 [==============================] - 0s 5ms/step - loss: 0.5438 - accuracy: 0.7395 - val_loss: 0.5613 - val_accuracy: 0.7642\n",
      "Epoch 55/100\n",
      "8/8 [==============================] - 0s 5ms/step - loss: 0.5014 - accuracy: 0.7872 - val_loss: 0.5596 - val_accuracy: 0.7642\n",
      "Epoch 56/100\n",
      "8/8 [==============================] - 0s 5ms/step - loss: 0.4908 - accuracy: 0.7726 - val_loss: 0.5580 - val_accuracy: 0.7642\n",
      "Epoch 57/100\n",
      "8/8 [==============================] - 0s 5ms/step - loss: 0.5095 - accuracy: 0.7636 - val_loss: 0.5569 - val_accuracy: 0.7724\n",
      "Epoch 58/100\n",
      "8/8 [==============================] - 0s 5ms/step - loss: 0.5142 - accuracy: 0.7573 - val_loss: 0.5555 - val_accuracy: 0.7724\n",
      "Epoch 59/100\n"
     ]
    },
    {
     "name": "stdout",
     "output_type": "stream",
     "text": [
      "8/8 [==============================] - 0s 5ms/step - loss: 0.5046 - accuracy: 0.7590 - val_loss: 0.5538 - val_accuracy: 0.7724\n",
      "Epoch 60/100\n",
      "8/8 [==============================] - 0s 5ms/step - loss: 0.5094 - accuracy: 0.7626 - val_loss: 0.5517 - val_accuracy: 0.7805\n",
      "Epoch 61/100\n",
      "8/8 [==============================] - 0s 5ms/step - loss: 0.4937 - accuracy: 0.7791 - val_loss: 0.5501 - val_accuracy: 0.7805\n",
      "Epoch 62/100\n",
      "8/8 [==============================] - 0s 5ms/step - loss: 0.5006 - accuracy: 0.7716 - val_loss: 0.5486 - val_accuracy: 0.7805\n",
      "Epoch 63/100\n",
      "8/8 [==============================] - 0s 4ms/step - loss: 0.4735 - accuracy: 0.7966 - val_loss: 0.5470 - val_accuracy: 0.7805\n",
      "Epoch 64/100\n",
      "8/8 [==============================] - 0s 5ms/step - loss: 0.4934 - accuracy: 0.7787 - val_loss: 0.5457 - val_accuracy: 0.7805\n",
      "Epoch 65/100\n",
      "8/8 [==============================] - 0s 6ms/step - loss: 0.4879 - accuracy: 0.7835 - val_loss: 0.5448 - val_accuracy: 0.7805\n",
      "Epoch 66/100\n",
      "8/8 [==============================] - 0s 5ms/step - loss: 0.4854 - accuracy: 0.7758 - val_loss: 0.5435 - val_accuracy: 0.7805\n",
      "Epoch 67/100\n",
      "8/8 [==============================] - 0s 5ms/step - loss: 0.4932 - accuracy: 0.7769 - val_loss: 0.5419 - val_accuracy: 0.7805\n",
      "Epoch 68/100\n",
      "8/8 [==============================] - 0s 5ms/step - loss: 0.4695 - accuracy: 0.7939 - val_loss: 0.5408 - val_accuracy: 0.7805\n",
      "Epoch 69/100\n",
      "8/8 [==============================] - 0s 5ms/step - loss: 0.4686 - accuracy: 0.7811 - val_loss: 0.5387 - val_accuracy: 0.7805\n",
      "Epoch 70/100\n",
      "8/8 [==============================] - 0s 5ms/step - loss: 0.4985 - accuracy: 0.7722 - val_loss: 0.5377 - val_accuracy: 0.7805\n",
      "Epoch 71/100\n",
      "8/8 [==============================] - 0s 5ms/step - loss: 0.4893 - accuracy: 0.7670 - val_loss: 0.5365 - val_accuracy: 0.7805\n",
      "Epoch 72/100\n",
      "8/8 [==============================] - 0s 4ms/step - loss: 0.4564 - accuracy: 0.7958 - val_loss: 0.5353 - val_accuracy: 0.7805\n",
      "Epoch 73/100\n",
      "8/8 [==============================] - 0s 4ms/step - loss: 0.4472 - accuracy: 0.8081 - val_loss: 0.5344 - val_accuracy: 0.7805\n",
      "Epoch 74/100\n",
      "8/8 [==============================] - 0s 4ms/step - loss: 0.4795 - accuracy: 0.7774 - val_loss: 0.5335 - val_accuracy: 0.7805\n",
      "Epoch 75/100\n",
      "8/8 [==============================] - 0s 5ms/step - loss: 0.4602 - accuracy: 0.8006 - val_loss: 0.5332 - val_accuracy: 0.7805\n",
      "Epoch 76/100\n",
      "8/8 [==============================] - 0s 5ms/step - loss: 0.4857 - accuracy: 0.7750 - val_loss: 0.5324 - val_accuracy: 0.7805\n",
      "Epoch 77/100\n",
      "8/8 [==============================] - 0s 5ms/step - loss: 0.5013 - accuracy: 0.7651 - val_loss: 0.5317 - val_accuracy: 0.7805\n",
      "Epoch 78/100\n",
      "8/8 [==============================] - 0s 5ms/step - loss: 0.4742 - accuracy: 0.8022 - val_loss: 0.5324 - val_accuracy: 0.7805\n",
      "Epoch 79/100\n",
      "8/8 [==============================] - 0s 4ms/step - loss: 0.4548 - accuracy: 0.8018 - val_loss: 0.5322 - val_accuracy: 0.7805\n",
      "Epoch 80/100\n",
      "8/8 [==============================] - 0s 4ms/step - loss: 0.4602 - accuracy: 0.7982 - val_loss: 0.5315 - val_accuracy: 0.7805\n",
      "Epoch 81/100\n",
      "8/8 [==============================] - 0s 4ms/step - loss: 0.4540 - accuracy: 0.8141 - val_loss: 0.5308 - val_accuracy: 0.7805\n",
      "Epoch 82/100\n",
      "8/8 [==============================] - 0s 5ms/step - loss: 0.4508 - accuracy: 0.8115 - val_loss: 0.5307 - val_accuracy: 0.7805\n",
      "Epoch 83/100\n",
      "8/8 [==============================] - 0s 4ms/step - loss: 0.4542 - accuracy: 0.7966 - val_loss: 0.5303 - val_accuracy: 0.7805\n",
      "Epoch 84/100\n",
      "8/8 [==============================] - 0s 5ms/step - loss: 0.4757 - accuracy: 0.7958 - val_loss: 0.5309 - val_accuracy: 0.7805\n",
      "Epoch 85/100\n",
      "8/8 [==============================] - 0s 5ms/step - loss: 0.5102 - accuracy: 0.7593 - val_loss: 0.5296 - val_accuracy: 0.7805\n",
      "Epoch 86/100\n",
      "8/8 [==============================] - 0s 5ms/step - loss: 0.4780 - accuracy: 0.7916 - val_loss: 0.5286 - val_accuracy: 0.7805\n",
      "Epoch 87/100\n",
      "8/8 [==============================] - 0s 5ms/step - loss: 0.4277 - accuracy: 0.8284 - val_loss: 0.5285 - val_accuracy: 0.7805\n",
      "Epoch 88/100\n",
      "8/8 [==============================] - 0s 5ms/step - loss: 0.4713 - accuracy: 0.7852 - val_loss: 0.5289 - val_accuracy: 0.7805\n",
      "Epoch 89/100\n",
      "8/8 [==============================] - 0s 5ms/step - loss: 0.4559 - accuracy: 0.7960 - val_loss: 0.5286 - val_accuracy: 0.7805\n",
      "Epoch 90/100\n",
      "8/8 [==============================] - 0s 5ms/step - loss: 0.4549 - accuracy: 0.8119 - val_loss: 0.5287 - val_accuracy: 0.7805\n",
      "Epoch 91/100\n",
      "8/8 [==============================] - 0s 5ms/step - loss: 0.4550 - accuracy: 0.7996 - val_loss: 0.5281 - val_accuracy: 0.7805\n",
      "Epoch 92/100\n",
      "8/8 [==============================] - 0s 5ms/step - loss: 0.4734 - accuracy: 0.8001 - val_loss: 0.5273 - val_accuracy: 0.7886\n",
      "Epoch 93/100\n",
      "8/8 [==============================] - 0s 5ms/step - loss: 0.4756 - accuracy: 0.7807 - val_loss: 0.5268 - val_accuracy: 0.7886\n",
      "Epoch 94/100\n",
      "8/8 [==============================] - 0s 4ms/step - loss: 0.4460 - accuracy: 0.8143 - val_loss: 0.5267 - val_accuracy: 0.7886\n",
      "Epoch 95/100\n",
      "8/8 [==============================] - 0s 5ms/step - loss: 0.4455 - accuracy: 0.8042 - val_loss: 0.5265 - val_accuracy: 0.7886\n",
      "Epoch 96/100\n",
      "8/8 [==============================] - 0s 4ms/step - loss: 0.4133 - accuracy: 0.8271 - val_loss: 0.5253 - val_accuracy: 0.7967\n",
      "Epoch 97/100\n",
      "8/8 [==============================] - 0s 5ms/step - loss: 0.4271 - accuracy: 0.8139 - val_loss: 0.5256 - val_accuracy: 0.8049\n",
      "Epoch 98/100\n",
      "8/8 [==============================] - 0s 5ms/step - loss: 0.4421 - accuracy: 0.8020 - val_loss: 0.5259 - val_accuracy: 0.8049\n",
      "Epoch 99/100\n",
      "8/8 [==============================] - 0s 5ms/step - loss: 0.4568 - accuracy: 0.8038 - val_loss: 0.5262 - val_accuracy: 0.8049\n",
      "Epoch 100/100\n",
      "8/8 [==============================] - 0s 4ms/step - loss: 0.4651 - accuracy: 0.7906 - val_loss: 0.5254 - val_accuracy: 0.8049\n"
     ]
    }
   ],
   "source": [
    "history = model.fit(X_train, y_train,validation_data = (X_test,y_test), epochs=100, batch_size=64)"
   ]
  },
  {
   "cell_type": "code",
   "execution_count": 206,
   "id": "707a0b4c",
   "metadata": {},
   "outputs": [
    {
     "data": {
      "image/png": "[encoded data removed]",
      "text/plain": [
       "<Figure size 432x288 with 1 Axes>"
      ]
     },
     "metadata": {
      "needs_background": "light"
     },
     "output_type": "display_data"
    }
   ],
   "source": [
    "plt.plot(history.history['accuracy'])\n",
    "plt.plot(history.history['val_accuracy'])\n",
    "plt.title('Model accuracy')\n",
    "plt.ylabel('Accuracy')\n",
    "plt.xlabel('Epoch')\n",
    "plt.legend(['Train', 'Test'], loc='upper left')\n",
    "plt.show()"
   ]
  },
  {
   "cell_type": "code",
   "execution_count": 207,
   "id": "9b08b255",
   "metadata": {},
   "outputs": [
    {
     "data": {
      "image/png": "[encoded data removed]",
      "text/plain": [
       "<Figure size 432x288 with 1 Axes>"
      ]
     },
     "metadata": {
      "needs_background": "light"
     },
     "output_type": "display_data"
    }
   ],
   "source": [
    "plt.plot(history.history['loss']) \n",
    "plt.plot(history.history['val_loss']) \n",
    "plt.title('Model loss') \n",
    "plt.ylabel('Loss') \n",
    "plt.xlabel('Epoch') \n",
    "plt.legend(['Train', 'Test'], loc='upper left') \n",
    "plt.show()\n"
   ]
  },
  {
   "cell_type": "code",
   "execution_count": 208,
   "id": "d84a334a",
   "metadata": {},
   "outputs": [
    {
     "name": "stdout",
     "output_type": "stream",
     "text": [
      "66 22 21 14\n",
      "Sensitivity: 0.82\n",
      "Specificity: 0.49\n",
      "Accuracy: 0.71\n",
      "Precision: 0.75\n"
     ]
    }
   ],
   "source": [
    "y_rf=model.predict(X_test)\n",
    "a = []\n",
    "y_rf = pd.DataFrame(y_rf)\n",
    "for i in y_rf[1][:]:\n",
    "    if i > 0.7:\n",
    "        a.append(1)\n",
    "    else:\n",
    "        a.append(0)\n",
    "\n",
    "a = np.array(a)\n",
    "y_test = pd.DataFrame(y_test)\n",
    "tp, fp, tn, fn = perf_measure(list(y_test[1][:]), a)\n",
    "print(tp, fp, tn, fn)\n",
    "a = print_metrics(tp, fp, tn, fn)\n"
   ]
  }
 ],
 "metadata": {
  "kernelspec": {
   "display_name": "Python 3",
   "language": "python",
   "name": "python3"
  },
  "language_info": {
   "codemirror_mode": {
    "name": "ipython",
    "version": 3
   },
   "file_extension": ".py",
   "mimetype": "text/x-python",
   "name": "python",
   "nbconvert_exporter": "python",
   "pygments_lexer": "ipython3",
   "version": "3.9.2"
  }
 },
 "nbformat": 4,
 "nbformat_minor": 5
}
